{
 "cells": [
  {
   "metadata": {},
   "cell_type": "markdown",
   "source": [
    "# Regression Metrics\n",
    "This notebook is used to present the most important and used metrics to evaluate the performance of regression models."
   ],
   "id": "11728ff9ee441a6e"
  },
  {
   "metadata": {},
   "cell_type": "markdown",
   "source": [
    "## Learn the model\n",
    "Let's start with the creation of a toy dataset."
   ],
   "id": "f8ea019f449908cd"
  },
  {
   "metadata": {
    "ExecuteTime": {
     "end_time": "2024-07-01T19:43:23.443239Z",
     "start_time": "2024-07-01T19:43:19.571409Z"
    }
   },
   "cell_type": "code",
   "source": [
    "from sklearn.datasets import make_regression\n",
    "import numpy as np\n",
    "X, y = make_regression(n_samples=100, n_features=1, noise=1.5)"
   ],
   "id": "e2509e12f74bf6f0",
   "outputs": [],
   "execution_count": 1
  },
  {
   "metadata": {},
   "cell_type": "markdown",
   "source": "Let's visualize our dataset.",
   "id": "95cfa05ee1f1201e"
  },
  {
   "metadata": {
    "ExecuteTime": {
     "end_time": "2024-07-01T19:43:24.686454Z",
     "start_time": "2024-07-01T19:43:23.446239Z"
    }
   },
   "cell_type": "code",
   "source": [
    "import matplotlib.pyplot as plt\n",
    "plt.scatter(X, y)\n",
    "plt.xlabel('X')\n",
    "plt.ylabel('y')\n",
    "plt.show()"
   ],
   "id": "cd8a910300c9e6f5",
   "outputs": [
    {
     "data": {
      "text/plain": [
       "<Figure size 640x480 with 1 Axes>"
      ],
      "image/png": "[encoded data removed]"
     },
     "metadata": {},
     "output_type": "display_data"
    }
   ],
   "execution_count": 2
  },
  {
   "metadata": {},
   "cell_type": "markdown",
   "source": "We can now construct in a proper way the training and test dataset and learn the model. The aim of this notebook is just present the metrics used to evaluate a regression task. Hence, we will just use a standard holdout procedure.",
   "id": "79cdf91ab5e83a0b"
  },
  {
   "metadata": {
    "ExecuteTime": {
     "end_time": "2024-07-01T19:43:26.359924Z",
     "start_time": "2024-07-01T19:43:26.109478Z"
    }
   },
   "cell_type": "code",
   "source": [
    "from sklearn.model_selection import train_test_split\n",
    "from sklearn.linear_model import LinearRegression\n",
    "\n",
    "X_train, X_test, y_train, y_test = train_test_split(X, y, shuffle=True)\n",
    "lm = LinearRegression(fit_intercept=True, n_jobs=-1)\n",
    "lm.fit(X_train, y_train)\n",
    "\n",
    "y_test_pred = lm.predict(X_test)"
   ],
   "id": "5579ff9228b0b5cc",
   "outputs": [],
   "execution_count": 3
  },
  {
   "metadata": {},
   "cell_type": "markdown",
   "source": "## Numerical evaluation of the model",
   "id": "e24858cad05534aa"
  },
  {
   "metadata": {},
   "cell_type": "markdown",
   "source": "### Model evaluation with \"absolute\" metrics",
   "id": "30614f0089750e79"
  },
  {
   "metadata": {},
   "cell_type": "markdown",
   "source": [
    "#### **Mean Squared Error** (MSE) \n",
    "**MSE** is the mean of the squared errors:\n",
    "\n",
    "$$\\frac 1n\\sum_{i=1}^n(p_i - a_i)^2$$"
   ],
   "id": "ae2d46199bc6b2db"
  },
  {
   "metadata": {
    "ExecuteTime": {
     "end_time": "2024-07-01T19:43:26.987407Z",
     "start_time": "2024-07-01T19:43:26.966417Z"
    }
   },
   "cell_type": "code",
   "source": [
    "from sklearn.metrics import mean_squared_error\n",
    "print(f'MSE on the test set: {mean_squared_error(y_test, y_test_pred)}')"
   ],
   "id": "d69d3a7611b67b5d",
   "outputs": [
    {
     "name": "stdout",
     "output_type": "stream",
     "text": [
      "MSE on the test set: 1.2674529381640154\n"
     ]
    }
   ],
   "execution_count": 4
  },
  {
   "metadata": {},
   "cell_type": "markdown",
   "source": [
    "#### **Root Mean Squared Error** (RMSE) \n",
    "**RMSE** is the square root of the mean of the squared errors:\n",
    "\n",
    "$$\\sqrt{\\frac 1n\\sum_{i=1}^n(p_i - a_i)^2}$$"
   ],
   "id": "e48742efc1d813a"
  },
  {
   "metadata": {
    "ExecuteTime": {
     "end_time": "2024-07-01T19:43:27.392998Z",
     "start_time": "2024-07-01T19:43:27.375023Z"
    }
   },
   "cell_type": "code",
   "source": [
    "from sklearn.metrics import root_mean_squared_error\n",
    "print(f'RMSE on the test set: {root_mean_squared_error(y_test, y_test_pred)}')"
   ],
   "id": "820521aa1bcd017d",
   "outputs": [
    {
     "name": "stdout",
     "output_type": "stream",
     "text": [
      "RMSE on the test set: 1.1258121238306218\n"
     ]
    }
   ],
   "execution_count": 5
  },
  {
   "metadata": {},
   "cell_type": "markdown",
   "source": [
    "#### **Mean Absolute Error** (MAE) \n",
    "**MAE** is the mean of the absolute value of the errors:\n",
    "\n",
    "$$\\frac 1n\\sum_{i=1}^n|p_i-a_i|$$"
   ],
   "id": "f370cb9b1477a37"
  },
  {
   "metadata": {
    "ExecuteTime": {
     "end_time": "2024-07-01T19:43:27.778487Z",
     "start_time": "2024-07-01T19:43:27.770489Z"
    }
   },
   "cell_type": "code",
   "source": [
    "from sklearn.metrics import mean_absolute_error\n",
    "print(f'MAE on the test set: {mean_absolute_error(y_test, y_test_pred)}')"
   ],
   "id": "a595b988ba05ee0c",
   "outputs": [
    {
     "name": "stdout",
     "output_type": "stream",
     "text": [
      "MAE on the test set: 0.911372809482248\n"
     ]
    }
   ],
   "execution_count": 6
  },
  {
   "metadata": {},
   "cell_type": "markdown",
   "source": [
    "### Model evaluation with relative metrics: Improvement on the mean ...\n",
    "The error is made relative to what it would have been if a simple dummy model had been used.\n",
    "\n",
    "\n",
    "*How much does the scheme improve on simply predicting the averaged value from the training data?*"
   ],
   "id": "594e732f358dfc3b"
  },
  {
   "metadata": {},
   "cell_type": "markdown",
   "source": "The main is to fit a dummy model on the training data. This dummy model just returns as prediction the mean value of the training values. We compare the performance of our model with respect to the dummy model.",
   "id": "84e04a3671754ebc"
  },
  {
   "metadata": {
    "ExecuteTime": {
     "end_time": "2024-07-01T19:43:28.626842Z",
     "start_time": "2024-07-01T19:43:28.430956Z"
    }
   },
   "cell_type": "code",
   "source": [
    "from sklearn.dummy import DummyRegressor\n",
    "dummy_model = DummyRegressor(strategy='mean')\n",
    "dummy_model.fit(X_train, y_train)\n",
    "y_test_pred_dummy = dummy_model.predict(X_test)\n",
    "plt.plot(y_test_pred_dummy)\n",
    "plt.show()"
   ],
   "id": "6f25bfaea3b711e5",
   "outputs": [
    {
     "data": {
      "text/plain": [
       "<Figure size 640x480 with 1 Axes>"
      ],
      "image/png": "[encoded data removed]"
     },
     "metadata": {},
     "output_type": "display_data"
    }
   ],
   "execution_count": 7
  },
  {
   "metadata": {},
   "cell_type": "markdown",
   "source": [
    "#### **Relative Squared Error** (RSE):\n",
    "\n",
    "$$\\sum_{i=1}^n \\frac{(p_i-a_i)^2}{(a_i - \\bar{a})^2}$$\n",
    "\n",
    "where $\\bar{a}$ is the mean value over the training data."
   ],
   "id": "d26e633770ad3bf1"
  },
  {
   "metadata": {
    "ExecuteTime": {
     "end_time": "2024-07-01T19:43:29.581681Z",
     "start_time": "2024-07-01T19:43:29.570687Z"
    }
   },
   "cell_type": "code",
   "source": [
    "rse = np.sum(np.square(y_test_pred - y_test))/np.sum(np.square(y_test - y_test_pred_dummy))\n",
    "print(f'RSE on the test set: {rse}')"
   ],
   "id": "3c1afeca5a2bcdaa",
   "outputs": [
    {
     "name": "stdout",
     "output_type": "stream",
     "text": [
      "RSE on the test set: 0.0006594048363233655\n"
     ]
    }
   ],
   "execution_count": 8
  },
  {
   "metadata": {},
   "cell_type": "markdown",
   "source": [
    "#### **Root Relative Squared Error** (RRSE):\n",
    "\n",
    "$$\\sqrt{\\sum_{i=1}^n \\frac{(p_i-a_i)^2}{(a_i - \\bar{a})^2}}$$\n",
    "\n",
    "where $\\bar{a}$ is the mean value over the training data."
   ],
   "id": "2955790907a71053"
  },
  {
   "metadata": {
    "ExecuteTime": {
     "end_time": "2024-07-01T19:43:30.229306Z",
     "start_time": "2024-07-01T19:43:30.218315Z"
    }
   },
   "cell_type": "code",
   "source": [
    "rrse = np.sqrt(np.sum(np.square(y_test_pred - y_test))/\n",
    "               np.sum(np.square(y_test - y_test_pred_dummy)))\n",
    "print(f'RRSE on the test set: {rrse}')"
   ],
   "id": "169c771d8739b51f",
   "outputs": [
    {
     "name": "stdout",
     "output_type": "stream",
     "text": [
      "RRSE on the test set: 0.025678879187444405\n"
     ]
    }
   ],
   "execution_count": 9
  },
  {
   "metadata": {},
   "cell_type": "markdown",
   "source": [
    "#### **Relative Absolute Error** (RAE):\n",
    "\n",
    "$$\\sum_{i=1}^n \\frac{|p_i-a_i|}{|a_i - \\bar{a}|}$$\n",
    "\n",
    "where $\\bar{a}$ is the mean value over the training data."
   ],
   "id": "d54125cfd7e58cc1"
  },
  {
   "metadata": {
    "ExecuteTime": {
     "end_time": "2024-07-01T19:43:31.047099Z",
     "start_time": "2024-07-01T19:43:31.036106Z"
    }
   },
   "cell_type": "code",
   "source": [
    "rae = np.sum(np.abs(y_test_pred - y_test))/np.sum(np.abs(y_test - y_test_pred_dummy))\n",
    "print(f'RAE on the test set: {rae}')"
   ],
   "id": "200f72d98472d30b",
   "outputs": [
    {
     "name": "stdout",
     "output_type": "stream",
     "text": [
      "RAE on the test set: 0.025057193960378536\n"
     ]
    }
   ],
   "execution_count": 10
  },
  {
   "metadata": {},
   "cell_type": "markdown",
   "source": "### Statistical metrics",
   "id": "9550311e715b21d0"
  },
  {
   "metadata": {},
   "cell_type": "markdown",
   "source": [
    "#### Correlation coefficient (*r*)\n",
    "$$\n",
    "\\frac{S_{PA}}{\\sqrt{S_pS_A}}\n",
    "$$\n",
    "\n",
    "where \n",
    "\n",
    "$$\n",
    "S_{PA} = \\frac{\\sum_{i=1}^n (p_i - \\bar{p})(a_i - \\bar{a})}{n -1}, \n",
    "S_{P} = \\frac{\\sum_{i=1}^n (p_i - \\bar{p})^2}{n -1}, \n",
    "S_{A} = \\frac{\\sum_{i=1}^n (a_i - \\bar{a})^2}{n -1}\n",
    "$$\n",
    "\n",
    "The values of R are between -1 and 1, inclusive:\n",
    "* 1 perfectly correlated result\n",
    "* 0 no correlation\n",
    "* -1 perfectly correlated negatively\n",
    "\n",
    "Good performance leads to large values towards 1!"
   ],
   "id": "3e58373091b8bece"
  },
  {
   "metadata": {
    "ExecuteTime": {
     "end_time": "2024-07-01T19:43:32.555498Z",
     "start_time": "2024-07-01T19:43:32.545504Z"
    }
   },
   "cell_type": "code",
   "source": "print(f'R on the test set: {np.corrcoef(y_test, y_test_pred)[0, 1]}')",
   "id": "27a5055e42fa232f",
   "outputs": [
    {
     "name": "stdout",
     "output_type": "stream",
     "text": [
      "R on the test set: 0.999677550168614\n"
     ]
    }
   ],
   "execution_count": 11
  },
  {
   "metadata": {},
   "cell_type": "markdown",
   "source": [
    "#### **Coefficient of determination** (R$^2$) \n",
    "The coefficient of determination measures how well a statistical model predicts an outcome: \n",
    "\n",
    "$$R^2 = 1- \\frac{\\sum^{n}_{i=1}({a_{i} - p_{i})^2}}{\\sum^{n}_{i=1}{(a_{i}- \\bar{a})^2}}$$\n",
    "\n",
    "Best possible score is 1.0 and it can be negative (because the model can be arbitrarily worse)."
   ],
   "id": "bd6f2a3cb311bb50"
  },
  {
   "metadata": {
    "ExecuteTime": {
     "end_time": "2024-07-01T19:43:33.111819Z",
     "start_time": "2024-07-01T19:43:33.102823Z"
    }
   },
   "cell_type": "code",
   "source": [
    "from sklearn.metrics import r2_score\n",
    "print(f'R2 on the test set: {r2_score(y_test, y_test_pred)}')"
   ],
   "id": "be482ca86bb3b6c2",
   "outputs": [
    {
     "name": "stdout",
     "output_type": "stream",
     "text": [
      "R2 on the test set: 0.9993385812648469\n"
     ]
    }
   ],
   "execution_count": 12
  },
  {
   "metadata": {},
   "cell_type": "markdown",
   "source": "## Graphical evaluation of the model",
   "id": "ed3d4ab17da92920"
  },
  {
   "metadata": {
    "ExecuteTime": {
     "end_time": "2024-07-01T19:43:34.880786Z",
     "start_time": "2024-07-01T19:43:34.322111Z"
    }
   },
   "cell_type": "code",
   "source": [
    "import matplotlib.pyplot as plt\n",
    "from sklearn.metrics import PredictionErrorDisplay\n",
    "\n",
    "fig, axs = plt.subplots(nrows=1, ncols=2, figsize=(12, 5))\n",
    "_ = PredictionErrorDisplay.from_estimator(\n",
    "    lm, X_test, y_test, kind=\"actual_vs_predicted\", ax=axs[0]\n",
    ")\n",
    "axs[0].set_title('Actual vs. Predicted values')\n",
    "axs[0].legend(['Perfect fit', 'Observation'])\n",
    "\n",
    "_ = PredictionErrorDisplay.from_estimator(\n",
    "    lm, X_test, y_test, kind=\"residual_vs_predicted\", ax=axs[1]\n",
    ")\n",
    "axs[1].set_title('Residual vs. Predicted values')"
   ],
   "id": "c1436c162b76439d",
   "outputs": [
    {
     "data": {
      "text/plain": [
       "Text(0.5, 1.0, 'Residual vs. Predicted values')"
      ]
     },
     "execution_count": 13,
     "metadata": {},
     "output_type": "execute_result"
    },
    {
     "data": {
      "text/plain": [
       "<Figure size 1200x500 with 2 Axes>"
      ],
      "image/png": "[encoded data removed]"
     },
     "metadata": {},
     "output_type": "display_data"
    }
   ],
   "execution_count": 13
  }
 ],
 "metadata": {
  "kernelspec": {
   "display_name": "Python 3",
   "language": "python",
   "name": "python3"
  },
  "language_info": {
   "codemirror_mode": {
    "name": "ipython",
    "version": 2
   },
   "file_extension": ".py",
   "mimetype": "text/x-python",
   "name": "python",
   "nbconvert_exporter": "python",
   "pygments_lexer": "ipython2",
   "version": "2.7.6"
  }
 },
 "nbformat": 4,
 "nbformat_minor": 5
}
