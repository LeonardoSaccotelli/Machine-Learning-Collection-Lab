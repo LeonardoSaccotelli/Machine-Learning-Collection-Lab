{
 "cells": [
  {
   "metadata": {},
   "cell_type": "markdown",
   "source": "# Model Evaluation",
   "id": "58cd8ba95d0c20c7"
  },
  {
   "metadata": {},
   "cell_type": "markdown",
   "source": [
    "The goal of the evaluation part is to determine which methods to use on a particular problem. Error on the training data is not a good indicator of the performance on future data. \n",
    "Ideally, we would like to have: \n",
    "* a large amount of data for training the model in order to have a more accurate model\n",
    "* a large amount of data for testing the model in order to have a more reliable evaluation and a more accurate estimation of the error.\n",
    "\n",
    "We need some techniques to training and evaluate the models properly. \n",
    "In this notebook we will explore the most important techniques used to create properly a training and test set and how to conduct a fair evaluation of the model performance.\n",
    "\n",
    "In this notebook we will first create an artificial dataset to show how the different techniques split the dataset. Then we will use the Iris dataset and the KNearestNeighborsClassifier to show how to proper evaluate the model.\n"
   ],
   "id": "43b084bfaf4cabb8"
  },
  {
   "metadata": {
    "ExecuteTime": {
     "end_time": "2024-06-12T18:32:37.571647Z",
     "start_time": "2024-06-12T18:32:35.059079Z"
    }
   },
   "cell_type": "code",
   "source": [
    "from sklearn.datasets import load_iris\n",
    "from sklearn.neighbors import KNeighborsClassifier\n",
    "from sklearn.metrics import accuracy_score\n",
    "from utilities.ml_plot_utilities import  plot_bar_compare_stratification, plot_repeated_holdout_train_test_score\n",
    "import numpy as np"
   ],
   "id": "4d2e753890e74583",
   "outputs": [],
   "execution_count": 1
  },
  {
   "metadata": {
    "ExecuteTime": {
     "end_time": "2024-06-12T18:32:37.601632Z",
     "start_time": "2024-06-12T18:32:37.574648Z"
    }
   },
   "cell_type": "code",
   "source": [
    "# Load the dataset and retrieve features and target\n",
    "iris = load_iris()\n",
    "X, y = iris.data, iris.target"
   ],
   "id": "d66a571bacc83827",
   "outputs": [],
   "execution_count": 2
  },
  {
   "metadata": {},
   "cell_type": "markdown",
   "source": [
    "## **Evaluation procedure #1: Resubstitution error** \n",
    "Train and test on the entire dataset. The error is called *resubstitution error*. It is the error rate obtained by resubstituiting the training instances into a classifier constructed with the very same dataset. \n",
    "\n",
    "1. Train the model on the **entire dataset**.\n",
    "2. Test the model on the **same dataset**, and evaluate how well we did by comparing the **predicted** response values with the **true** response values.\n",
    "\n",
    "**In general, is hopelessly optimistic!**"
   ],
   "id": "6449c635315241c4"
  },
  {
   "metadata": {
    "ExecuteTime": {
     "end_time": "2024-06-12T18:32:37.711568Z",
     "start_time": "2024-06-12T18:32:37.603629Z"
    }
   },
   "cell_type": "code",
   "source": [
    "knn = KNeighborsClassifier(n_neighbors=3)\n",
    "\n",
    "# fit the model with data\n",
    "knn.fit(X, y)\n",
    "\n",
    "# predict the response values for the observations in X\n",
    "y_pred=knn.predict(X)\n",
    "\n",
    "# evaluate the model on the same dataset\n",
    "print(f'Accuracy score: {accuracy_score(y, y_pred)}')\n",
    "print(f'Resubstitution error rate: {round(1-accuracy_score(y, y_pred),2)}')"
   ],
   "id": "37ad9bbf4647f7b7",
   "outputs": [
    {
     "name": "stdout",
     "output_type": "stream",
     "text": [
      "Accuracy score: 0.96\n",
      "Resubstitution error rate: 0.04\n"
     ]
    }
   ],
   "execution_count": 3
  },
  {
   "metadata": {},
   "cell_type": "markdown",
   "source": [
    "## **Evaluation procedure #2: holdout method** \n",
    "The holdout method reserves a certain amount for testing and uses the rest for training."
   ],
   "id": "ce3ff039ae620a2e"
  },
  {
   "metadata": {
    "ExecuteTime": {
     "end_time": "2024-06-12T18:32:37.851491Z",
     "start_time": "2024-06-12T18:32:37.716566Z"
    }
   },
   "cell_type": "code",
   "source": "from sklearn.model_selection import train_test_split",
   "id": "f510d95de2610d74",
   "outputs": [],
   "execution_count": 4
  },
  {
   "metadata": {
    "ExecuteTime": {
     "end_time": "2024-06-12T18:32:37.958444Z",
     "start_time": "2024-06-12T18:32:37.854487Z"
    }
   },
   "cell_type": "code",
   "source": "X.shape, y.shape",
   "id": "d13f89a80612f14",
   "outputs": [
    {
     "data": {
      "text/plain": [
       "((150, 4), (150,))"
      ]
     },
     "execution_count": 5,
     "metadata": {},
     "output_type": "execute_result"
    }
   ],
   "execution_count": 5
  },
  {
   "metadata": {},
   "cell_type": "markdown",
   "source": [
    "### Standard holdout method\n",
    "We can now quickly sample a training set while holding out 30% of the data for testing (evaluating) our classifier."
   ],
   "id": "2a57525a47e22c26"
  },
  {
   "metadata": {
    "ExecuteTime": {
     "end_time": "2024-06-12T18:32:38.034386Z",
     "start_time": "2024-06-12T18:32:37.960431Z"
    }
   },
   "cell_type": "code",
   "source": "X_train, X_test, y_train, y_test = train_test_split(X, y, test_size=0.3, shuffle=True)",
   "id": "306ce9b12156fa39",
   "outputs": [],
   "execution_count": 6
  },
  {
   "metadata": {
    "ExecuteTime": {
     "end_time": "2024-06-12T18:32:38.188782Z",
     "start_time": "2024-06-12T18:32:38.036383Z"
    }
   },
   "cell_type": "code",
   "source": [
    "knn = KNeighborsClassifier(n_neighbors=3)\n",
    "\n",
    "# fit the model with the training data\n",
    "knn.fit(X_train, y_train)\n",
    "\n",
    "# predict the response values for training and test data\n",
    "y_train_pred=knn.predict(X_train)\n",
    "y_test_pred=knn.predict(X_test)\n",
    "\n",
    "print(f'Accuracy score on training data: {accuracy_score(y_train, y_train_pred)}')\n",
    "print(f'Error rate on training data: {1-accuracy_score(y_train, y_train_pred)}')\n",
    "print(\"===================================================\")\n",
    "print(f'Accuracy score on test data: {accuracy_score(y_test, y_test_pred)}')\n",
    "print(f'Error rate on test data: {1-accuracy_score(y_test, y_test_pred)}')"
   ],
   "id": "ce0e2ca35cdd008d",
   "outputs": [
    {
     "name": "stdout",
     "output_type": "stream",
     "text": [
      "Accuracy score on training data: 0.9904761904761905\n",
      "Error rate on training data: 0.00952380952380949\n",
      "===================================================\n",
      "Accuracy score on test data: 0.9111111111111111\n",
      "Error rate on test data: 0.0888888888888889\n"
     ]
    }
   ],
   "execution_count": 7
  },
  {
   "metadata": {},
   "cell_type": "markdown",
   "source": [
    "### Stratified holdout method\n",
    "The main issue in holdout estimation is that the classes in the training and test dataset could not be represented in equal proportions. We can use stratification to ensure that each class is represented in equal proportions in both subsets. \n",
    "\n",
    "To stratify, we need to pass the `stratify=y`, where `y` is the vector of the target values. "
   ],
   "id": "565e718420d4eee2"
  },
  {
   "metadata": {
    "ExecuteTime": {
     "end_time": "2024-06-12T18:32:38.314711Z",
     "start_time": "2024-06-12T18:32:38.192781Z"
    }
   },
   "cell_type": "code",
   "source": [
    "_, _, y_train_non_stratified, _ = train_test_split(X, y, test_size=0.3, shuffle=True, stratify=None)\n",
    "_, _, y_train_stratified, _ = train_test_split(X, y, test_size=0.3, shuffle=True, stratify=y)"
   ],
   "id": "48f8e151892f00ad",
   "outputs": [],
   "execution_count": 8
  },
  {
   "metadata": {
    "ExecuteTime": {
     "end_time": "2024-06-12T18:32:38.796438Z",
     "start_time": "2024-06-12T18:32:38.317711Z"
    }
   },
   "cell_type": "code",
   "source": "plot_bar_compare_stratification(y_train_non_stratified, y_train_stratified, return_plot=True, plot_summary_table=True)",
   "id": "ebc7cc2d1b59a347",
   "outputs": [
    {
     "name": "stdout",
     "output_type": "stream",
     "text": [
      "Label           Split   0   1   2\n",
      "0      Non-Stratified  40  35  30\n",
      "1          Stratified  35  35  35\n"
     ]
    },
    {
     "data": {
      "text/plain": [
       "<Figure size 640x480 with 1 Axes>"
      ],
      "image/png": "[encoded data removed]"
     },
     "metadata": {},
     "output_type": "display_data"
    }
   ],
   "execution_count": 9
  },
  {
   "metadata": {},
   "cell_type": "markdown",
   "source": [
    "### Repeated holdout method (stratified)\n",
    "Holdout estimation can be made more reliable by repeating the process with different subsamples (usually 5 or 10 repetitions). In each iteration, a certain proportion is randomly selected for training (possibly with stratification). The error rates on the different iterations are averaged to yield an overall error rate. \n",
    "\n",
    "The issue of this approach is that different test sets may overlap!!"
   ],
   "id": "f9468ef217fb36b1"
  },
  {
   "metadata": {
    "ExecuteTime": {
     "end_time": "2024-06-12T18:32:39.465056Z",
     "start_time": "2024-06-12T18:32:38.800435Z"
    }
   },
   "cell_type": "code",
   "source": [
    "n_iter = 10\n",
    "test_accuracy = np.zeros(n_iter)\n",
    "train_accuracy = np.zeros(n_iter)\n",
    "knn = KNeighborsClassifier(n_neighbors=3)\n",
    "\n",
    "for i in range(n_iter):\n",
    "    X_train, X_test, y_train, y_test = train_test_split(X, y, test_size=0.3, shuffle=True, stratify=y)\n",
    "    knn.fit(X_train, y_train)\n",
    "    \n",
    "    # .score() computed the accuracy score by calling\n",
    "    # .predict() and then accuracy_score()\n",
    "    train_accuracy[i] = knn.score(X_train, y_train)\n",
    "    test_accuracy[i] = knn.score(X_test, y_test)   \n",
    "\n",
    "print(f\"Mean Training Score: {train_accuracy.mean():.4f}\")\n",
    "print(f\"Standard Deviation Training Score: {train_accuracy.std():.4f}\")\n",
    "print(f\"Mean Test Score: {test_accuracy.mean():.4f}\")\n",
    "print(f\"Standard Deviation Test Score: {test_accuracy.std():.4f}\")\n",
    "\n",
    "plot_repeated_holdout_train_test_score(train_accuracy, test_accuracy, n_iter, 'accuracy')"
   ],
   "id": "56d6e21483ca924",
   "outputs": [
    {
     "name": "stdout",
     "output_type": "stream",
     "text": [
      "Mean Training Score: 0.9714\n",
      "Standard Deviation Training Score: 0.0165\n",
      "Mean Test Score: 0.9556\n",
      "Standard Deviation Test Score: 0.0222\n"
     ]
    },
    {
     "data": {
      "text/plain": [
       "<Figure size 1000x500 with 1 Axes>"
      ],
      "image/png": "[encoded data removed]"
     },
     "metadata": {},
     "output_type": "display_data"
    }
   ],
   "execution_count": 10
  },
  {
   "metadata": {},
   "cell_type": "markdown",
   "source": [
    "## **Evaluation procedure #3: cross-validation method** \n",
    "Even if we use repetition, holdout method suffers from overlapping in the test set. We can use the so-called k-fold cross-validation.\n",
    "\n",
    "1. Split the dataset into K **equal** partitions (or \"folds\").\n",
    "2. Use fold 1 as the **testing set** and the union of the other folds as the **training set**.\n",
    "3. Calculate **testing accuracy**.\n",
    "4. Repeat steps 2 and 3 K times, using a **different fold** as the testing set each time.\n",
    "5. Use the **average testing accuracy** as the estimate of out-of-sample accuracy."
   ],
   "id": "af369aade2d0445"
  },
  {
   "metadata": {},
   "cell_type": "markdown",
   "source": "### An introduction to `cross_val_score` and `cross_validate`",
   "id": "d3474b626ca20aeb"
  },
  {
   "metadata": {},
   "cell_type": "markdown",
   "source": [
    "#### `cross_val_score`\n",
    "The simplest way to use cross-validation is to call the `cross_val_score` helper function on the estimator and the dataset."
   ],
   "id": "7ce85291baa96418"
  },
  {
   "metadata": {
    "ExecuteTime": {
     "end_time": "2024-06-12T18:32:40.907236Z",
     "start_time": "2024-06-12T18:32:40.853270Z"
    }
   },
   "cell_type": "code",
   "source": [
    "from sklearn.model_selection import cross_val_score\n",
    "X, y = iris.data, iris.target\n",
    "model = KNeighborsClassifier(n_neighbors=3)\n",
    "scores = cross_val_score(model, X, y, cv = 5)\n",
    "print(scores)\n",
    "print(\"%0.4f average accuracy with a standard deviation of %0.4f\" % (scores.mean(), scores.std()))"
   ],
   "id": "b4eb290ee116d65c",
   "outputs": [
    {
     "name": "stdout",
     "output_type": "stream",
     "text": [
      "[0.96666667 0.96666667 0.93333333 0.96666667 1.        ]\n",
      "0.9667 average accuracy with a standard deviation of 0.0211\n"
     ]
    }
   ],
   "execution_count": 11
  },
  {
   "metadata": {},
   "cell_type": "markdown",
   "source": "By default, the score computed at each CV iteration is the `score` method of the estimator. It is possible to change this by using the scoring parameter.",
   "id": "454ff6e81c6f1f16"
  },
  {
   "metadata": {
    "ExecuteTime": {
     "end_time": "2024-06-12T18:32:41.389962Z",
     "start_time": "2024-06-12T18:32:41.333993Z"
    }
   },
   "cell_type": "code",
   "source": [
    "scores = cross_val_score(model, X, y, cv = 5, scoring='f1_macro')\n",
    "print(scores)\n",
    "print(\"%0.4f average 'f1_macro' with a standard deviation of %0.4f\" % (scores.mean(), scores.std()))"
   ],
   "id": "999a20b8591e4caa",
   "outputs": [
    {
     "name": "stdout",
     "output_type": "stream",
     "text": [
      "[0.96658312 0.96658312 0.93265993 0.96658312 1.        ]\n",
      "0.9665 average 'f1_macro' with a standard deviation of 0.0213\n"
     ]
    }
   ],
   "execution_count": 12
  },
  {
   "metadata": {},
   "cell_type": "markdown",
   "source": "When the `cv` argument is an integer, `cross_val_score` uses the `KFold` or `StratifiedKFold`  strategies by default. We will see how to change strategies.",
   "id": "7c36633c539b484e"
  },
  {
   "metadata": {},
   "cell_type": "markdown",
   "source": [
    "#### `cross_validate`\n",
    "The `cross_validate` function differs from `cross_val_score` in two ways:\n",
    "* It allows specifying multiple metrics for evaluation.\n",
    "* It returns a dict containing fit-times, score-times (and optionally training scores, fitted estimators, train-test split indices) in addition to the test score.\n",
    "\n",
    "If needed, we can also save the train score."
   ],
   "id": "c55438b334e17296"
  },
  {
   "metadata": {
    "ExecuteTime": {
     "end_time": "2024-06-12T18:32:42.493333Z",
     "start_time": "2024-06-12T18:32:42.310438Z"
    }
   },
   "cell_type": "code",
   "source": [
    "from sklearn.model_selection import cross_validate\n",
    "X, y = iris.data, iris.target\n",
    "model = KNeighborsClassifier(n_neighbors=3)\n",
    "scoring = ['precision_macro', 'recall_macro']\n",
    "scores = cross_validate(model, X, y, scoring=scoring, cv = 5, return_train_score=True)\n",
    "sorted(scores.keys())\n",
    "print(f\"train_precision_macro: {scores['train_precision_macro']}\")\n",
    "print(f\"train_recall_macro: {scores['train_recall_macro']}\")\n",
    "print(\"===============================================================================\")\n",
    "print(f\"test_precision_macro: {scores['test_precision_macro']}\")\n",
    "print(f\"test_recall_macro: {scores['test_recall_macro']}\")"
   ],
   "id": "a7aedbd77a852b55",
   "outputs": [
    {
     "name": "stdout",
     "output_type": "stream",
     "text": [
      "train_precision_macro: [0.95851574 0.95851574 0.96741855 0.96666667 0.95      ]\n",
      "train_recall_macro: [0.95833333 0.95833333 0.96666667 0.96666667 0.95      ]\n",
      "===============================================================================\n",
      "test_precision_macro: [0.96969697 0.96969697 0.94444444 0.96969697 1.        ]\n",
      "test_recall_macro: [0.96666667 0.96666667 0.93333333 0.96666667 1.        ]\n"
     ]
    }
   ],
   "execution_count": 13
  },
  {
   "metadata": {},
   "cell_type": "markdown",
   "source": "### K-fold cross-validation",
   "id": "2c451b14ed4cb116"
  },
  {
   "metadata": {
    "ExecuteTime": {
     "end_time": "2024-06-12T18:32:43.287882Z",
     "start_time": "2024-06-12T18:32:43.263895Z"
    }
   },
   "cell_type": "code",
   "source": [
    "from sklearn.model_selection import KFold\n",
    "X = [\"a\", \"b\", \"c\", \"d\"]\n",
    "kf = KFold(n_splits=2, shuffle=True)\n",
    "for train, test in kf.split(X):\n",
    "    print(f'train fold: {train} test fold: {test}')"
   ],
   "id": "5a31be17965bcdec",
   "outputs": [
    {
     "name": "stdout",
     "output_type": "stream",
     "text": [
      "train fold: [0 1] test fold: [2 3]\n",
      "train fold: [2 3] test fold: [0 1]\n"
     ]
    }
   ],
   "execution_count": 14
  },
  {
   "metadata": {
    "ExecuteTime": {
     "end_time": "2024-06-12T18:32:43.801588Z",
     "start_time": "2024-06-12T18:32:43.756614Z"
    }
   },
   "cell_type": "code",
   "source": [
    "X, y = iris.data, iris.target\n",
    "model = KNeighborsClassifier(n_neighbors=3)\n",
    "cv = KFold(n_splits=5, shuffle=True)\n",
    "scores = cross_val_score(model, X, y, cv = cv, scoring='accuracy' )\n",
    "print(scores)\n",
    "print(\"%0.4f average accuracy with a standard deviation of %0.4f\" % (scores.mean(), scores.std()))"
   ],
   "id": "d845a6ddcdbe8f5d",
   "outputs": [
    {
     "name": "stdout",
     "output_type": "stream",
     "text": [
      "[0.96666667 0.96666667 0.9        1.         1.        ]\n",
      "0.9667 average accuracy with a standard deviation of 0.0365\n"
     ]
    }
   ],
   "execution_count": 15
  },
  {
   "metadata": {},
   "cell_type": "markdown",
   "source": [
    "### Stratified k-fold\n",
    "Standard method for evaluation: stratified **ten-fold** cross-validation. Extensive experiments have shown that this is the best choice to get an accurate estimate. Stratification reduces the estimate's variance.\n",
    "\n",
    "`StratifiedKFold` is a variation of k-fold which returns stratified folds: each set contains approximately the same percentage of samples of each target class as the complete set.\n",
    "\n",
    "* k = 10 if the dataset is large\n",
    "* k = 5 otherwise"
   ],
   "id": "a84eb04e0af21640"
  },
  {
   "metadata": {
    "ExecuteTime": {
     "end_time": "2024-06-12T18:32:44.543167Z",
     "start_time": "2024-06-12T18:32:44.519180Z"
    }
   },
   "cell_type": "code",
   "source": [
    "from sklearn.model_selection import StratifiedKFold\n",
    "X, y = np.ones((100, 1)), np.hstack(([0] * 90, [1] * 10))\n",
    "skf = StratifiedKFold(n_splits=10, shuffle=True)\n",
    "for train, test in skf.split(X, y):\n",
    "    print(f'train -  { np.bincount(y[train])}   |   test -  {np.bincount(y[test])}')"
   ],
   "id": "b29c7a060f8db89a",
   "outputs": [
    {
     "name": "stdout",
     "output_type": "stream",
     "text": [
      "train -  [81  9]   |   test -  [9 1]\n",
      "train -  [81  9]   |   test -  [9 1]\n",
      "train -  [81  9]   |   test -  [9 1]\n",
      "train -  [81  9]   |   test -  [9 1]\n",
      "train -  [81  9]   |   test -  [9 1]\n",
      "train -  [81  9]   |   test -  [9 1]\n",
      "train -  [81  9]   |   test -  [9 1]\n",
      "train -  [81  9]   |   test -  [9 1]\n",
      "train -  [81  9]   |   test -  [9 1]\n",
      "train -  [81  9]   |   test -  [9 1]\n"
     ]
    }
   ],
   "execution_count": 16
  },
  {
   "metadata": {
    "ExecuteTime": {
     "end_time": "2024-06-12T18:32:45.009900Z",
     "start_time": "2024-06-12T18:32:44.931946Z"
    }
   },
   "cell_type": "code",
   "source": [
    "X, y = iris.data, iris.target\n",
    "model = KNeighborsClassifier(n_neighbors=3)\n",
    "cv = StratifiedKFold(n_splits=10, shuffle=True)\n",
    "scores = cross_val_score(model, X, y, cv = cv, scoring='accuracy')\n",
    "print(scores)\n",
    "print(\"%0.4f average accuracy with a standard deviation of %0.4f\" % (scores.mean(), scores.std()))"
   ],
   "id": "9e80e733fcab8a3a",
   "outputs": [
    {
     "name": "stdout",
     "output_type": "stream",
     "text": [
      "[0.93333333 1.         1.         1.         0.86666667 1.\n",
      " 1.         0.86666667 1.         1.        ]\n",
      "0.9667 average accuracy with a standard deviation of 0.0537\n"
     ]
    }
   ],
   "execution_count": 17
  },
  {
   "metadata": {},
   "cell_type": "markdown",
   "source": [
    "### Repeated k-fold\n",
    "`RepeatedKFold` repeats K-Fold n times. It can be used when one requires running KFold n times, producing different splits in each repetition."
   ],
   "id": "62bf1bc5c0f41c4b"
  },
  {
   "metadata": {
    "ExecuteTime": {
     "end_time": "2024-06-12T18:32:46.332150Z",
     "start_time": "2024-06-12T18:32:46.319155Z"
    }
   },
   "cell_type": "code",
   "source": [
    "from sklearn.model_selection import RepeatedKFold\n",
    "X = np.array([[1, 2], [3, 4], [1, 2], [3, 4]])\n",
    "rkf = RepeatedKFold(n_splits=2, n_repeats=2)\n",
    "for train, test in rkf.split(X):\n",
    "    print(f'train fold: {train} test fold: {test}')"
   ],
   "id": "8a0f329a024c0f7d",
   "outputs": [
    {
     "name": "stdout",
     "output_type": "stream",
     "text": [
      "train fold: [1 3] test fold: [0 2]\n",
      "train fold: [0 2] test fold: [1 3]\n",
      "train fold: [0 2] test fold: [1 3]\n",
      "train fold: [1 3] test fold: [0 2]\n"
     ]
    }
   ],
   "execution_count": 18
  },
  {
   "metadata": {},
   "cell_type": "markdown",
   "source": [
    "### Repeated stratified k-fold\n",
    "`RepeatedStratifiedKFold` repeats stratified K-Fold n times with different randomization in each repetition. Standard approach: **Ten-fold** cross-validation is repeated **ten times** and results are averaged (reduces the variance)."
   ],
   "id": "373ab821c1a39968"
  },
  {
   "metadata": {
    "ExecuteTime": {
     "end_time": "2024-06-12T18:32:49.014623Z",
     "start_time": "2024-06-12T18:32:47.580438Z"
    }
   },
   "cell_type": "code",
   "source": [
    "from sklearn.model_selection import RepeatedStratifiedKFold\n",
    "X, y = iris.data, iris.target\n",
    "model = KNeighborsClassifier(n_neighbors=3)\n",
    "cv = RepeatedStratifiedKFold(n_splits=10, n_repeats=10)\n",
    "scores = cross_val_score(model, X, y, cv = cv, scoring='accuracy')\n",
    "print(scores)\n",
    "print(\"%0.4f average accuracy with a standard deviation of %0.4f\" % (scores.mean(), scores.std()))"
   ],
   "id": "c76b266672981f38",
   "outputs": [
    {
     "name": "stdout",
     "output_type": "stream",
     "text": [
      "[0.93333333 1.         1.         1.         1.         1.\n",
      " 0.93333333 0.93333333 0.86666667 1.         0.93333333 1.\n",
      " 0.93333333 1.         1.         1.         0.93333333 0.93333333\n",
      " 0.86666667 1.         0.93333333 1.         0.86666667 1.\n",
      " 1.         0.93333333 1.         0.93333333 0.93333333 1.\n",
      " 0.93333333 0.93333333 1.         1.         0.93333333 0.93333333\n",
      " 1.         0.93333333 1.         1.         1.         1.\n",
      " 0.93333333 0.93333333 1.         0.86666667 1.         1.\n",
      " 0.93333333 1.         0.93333333 1.         1.         0.86666667\n",
      " 1.         0.93333333 1.         0.93333333 1.         0.93333333\n",
      " 0.93333333 1.         0.93333333 1.         0.93333333 1.\n",
      " 0.93333333 1.         1.         0.86666667 1.         0.93333333\n",
      " 0.93333333 1.         1.         0.93333333 1.         1.\n",
      " 0.93333333 0.86666667 1.         1.         0.93333333 1.\n",
      " 0.93333333 0.93333333 0.93333333 1.         0.86666667 1.\n",
      " 0.93333333 0.93333333 1.         0.93333333 1.         1.\n",
      " 1.         1.         0.86666667 1.        ]\n",
      "0.9627 average accuracy with a standard deviation of 0.0435\n"
     ]
    }
   ],
   "execution_count": 19
  },
  {
   "metadata": {},
   "cell_type": "markdown",
   "source": [
    "###  Time Series Split\n",
    "`TimeSeriesSplit` is a variation of k-fold which returns first folds as a train set and the \n",
    " th fold as a test set. Note that unlike standard cross-validation methods, successive training sets are supersets of those that come before them. Also, it adds all surplus data to the first training partition, which is always used to train the model.\n",
    "\n",
    "This class can be used to cross-validate time series data samples that are observed at fixed time intervals."
   ],
   "id": "fc5a038dc078c21f"
  },
  {
   "metadata": {
    "ExecuteTime": {
     "end_time": "2024-06-12T18:32:49.169534Z",
     "start_time": "2024-06-12T18:32:49.150545Z"
    }
   },
   "cell_type": "code",
   "source": [
    "from sklearn.model_selection import TimeSeriesSplit\n",
    "X = np.array([[1, 2], \n",
    "              [3, 4], \n",
    "              [1, 2], \n",
    "              [3, 4], \n",
    "              [1, 2], \n",
    "              [3, 4]])\n",
    "\n",
    "y = np.array([1, 2, 3, 4, 5, 6])\n",
    "tscv = TimeSeriesSplit(n_splits=3)\n",
    "for train, test in tscv.split(X):\n",
    "    print(f'train fold: {train} test fold: {test}')\n",
    "    print(f'X train: \\n{X[train]}, y train: {y[train]}, X test: {X[test]}, y test: {y[test]},')\n",
    "    print(\"=============================================================\")"
   ],
   "id": "7893f2e01097f1e3",
   "outputs": [
    {
     "name": "stdout",
     "output_type": "stream",
     "text": [
      "train fold: [0 1 2] test fold: [3]\n",
      "X train: \n",
      "[[1 2]\n",
      " [3 4]\n",
      " [1 2]], y train: [1 2 3], X test: [[3 4]], y test: [4],\n",
      "=============================================================\n",
      "train fold: [0 1 2 3] test fold: [4]\n",
      "X train: \n",
      "[[1 2]\n",
      " [3 4]\n",
      " [1 2]\n",
      " [3 4]], y train: [1 2 3 4], X test: [[1 2]], y test: [5],\n",
      "=============================================================\n",
      "train fold: [0 1 2 3 4] test fold: [5]\n",
      "X train: \n",
      "[[1 2]\n",
      " [3 4]\n",
      " [1 2]\n",
      " [3 4]\n",
      " [1 2]], y train: [1 2 3 4 5], X test: [[3 4]], y test: [6],\n",
      "=============================================================\n"
     ]
    }
   ],
   "execution_count": 20
  },
  {
   "metadata": {},
   "cell_type": "markdown",
   "source": [
    "## **Evaluation procedure #4: Leave-One-Out and Leave-P-Out method** \n",
    "`LeaveOneOut` (or LOO) is a simple cross-validation. Each learning set is created by taking all the samples except one, the test set being the sample left out. Thus, for samples, we have \n",
    " different training sets and different test sets. This cross-validation procedure wastes little data as only one sample is removed from the training set. The results of all n judgement are averaged for determining the final error estimate.\n",
    " \n",
    "**This is generally used only if the dataset is limited, let's say less than one hundred of samples.**\n",
    "* Stratification is not possible\n",
    "* Very computationally expensive\n"
   ],
   "id": "b4ee2c00e5feecd6"
  },
  {
   "metadata": {
    "ExecuteTime": {
     "end_time": "2024-06-12T18:32:50.131985Z",
     "start_time": "2024-06-12T18:32:50.118993Z"
    }
   },
   "cell_type": "code",
   "source": [
    "from sklearn.model_selection import LeaveOneOut\n",
    "X = [1, 2, 3, 4, 5, 6, 7, 8, 9, 10]\n",
    "loo = LeaveOneOut()\n",
    "for train, test in loo.split(X):\n",
    "    print(f'train fold: {train} test fold: {test}')"
   ],
   "id": "aff0b075ecf55e3f",
   "outputs": [
    {
     "name": "stdout",
     "output_type": "stream",
     "text": [
      "train fold: [1 2 3 4 5 6 7 8 9] test fold: [0]\n",
      "train fold: [0 2 3 4 5 6 7 8 9] test fold: [1]\n",
      "train fold: [0 1 3 4 5 6 7 8 9] test fold: [2]\n",
      "train fold: [0 1 2 4 5 6 7 8 9] test fold: [3]\n",
      "train fold: [0 1 2 3 5 6 7 8 9] test fold: [4]\n",
      "train fold: [0 1 2 3 4 6 7 8 9] test fold: [5]\n",
      "train fold: [0 1 2 3 4 5 7 8 9] test fold: [6]\n",
      "train fold: [0 1 2 3 4 5 6 8 9] test fold: [7]\n",
      "train fold: [0 1 2 3 4 5 6 7 9] test fold: [8]\n",
      "train fold: [0 1 2 3 4 5 6 7 8] test fold: [9]\n"
     ]
    }
   ],
   "execution_count": 21
  },
  {
   "metadata": {
    "ExecuteTime": {
     "end_time": "2024-06-12T18:32:51.562822Z",
     "start_time": "2024-06-12T18:32:50.786265Z"
    }
   },
   "cell_type": "code",
   "source": [
    "X, y = iris.data, iris.target\n",
    "model = KNeighborsClassifier(n_neighbors=3)\n",
    "scores = cross_val_score(model, X, y, cv = loo, scoring='accuracy')\n",
    "print(f'Number of evaluations: {scores.shape}')\n",
    "print(\"%0.4f average accuracy with a standard deviation of %0.4f\" % (scores.mean(), scores.std()))"
   ],
   "id": "3e4249704d47d2b8",
   "outputs": [
    {
     "name": "stdout",
     "output_type": "stream",
     "text": [
      "Number of evaluations: (150,)\n",
      "0.9600 average accuracy with a standard deviation of 0.1960\n"
     ]
    }
   ],
   "execution_count": 22
  },
  {
   "metadata": {},
   "cell_type": "markdown",
   "source": "`LeavePOut` is very similar to `LeaveOneOut` as it creates all the possible training/test sets by removing samples from the complete set. \n",
   "id": "a646f2652dfe377f"
  },
  {
   "metadata": {
    "ExecuteTime": {
     "end_time": "2024-06-12T18:32:51.593805Z",
     "start_time": "2024-06-12T18:32:51.573817Z"
    }
   },
   "cell_type": "code",
   "source": [
    "from sklearn.model_selection import LeavePOut\n",
    "X = [1, 2, 3, 4, 5]\n",
    "lpo = LeavePOut(p=2)\n",
    "for train, test in lpo.split(X):\n",
    "    print(f'train fold: {train} test fold: {test}')"
   ],
   "id": "9b59b112fc8e64cd",
   "outputs": [
    {
     "name": "stdout",
     "output_type": "stream",
     "text": [
      "train fold: [2 3 4] test fold: [0 1]\n",
      "train fold: [1 3 4] test fold: [0 2]\n",
      "train fold: [1 2 4] test fold: [0 3]\n",
      "train fold: [1 2 3] test fold: [0 4]\n",
      "train fold: [0 3 4] test fold: [1 2]\n",
      "train fold: [0 2 4] test fold: [1 3]\n",
      "train fold: [0 2 3] test fold: [1 4]\n",
      "train fold: [0 1 4] test fold: [2 3]\n",
      "train fold: [0 1 3] test fold: [2 4]\n",
      "train fold: [0 1 2] test fold: [3 4]\n"
     ]
    }
   ],
   "execution_count": 23
  },
  {
   "metadata": {},
   "cell_type": "code",
   "outputs": [],
   "execution_count": null,
   "source": "",
   "id": "5a33b82409b1b3c2"
  }
 ],
 "metadata": {
  "kernelspec": {
   "display_name": "Python 3",
   "language": "python",
   "name": "python3"
  },
  "language_info": {
   "codemirror_mode": {
    "name": "ipython",
    "version": 2
   },
   "file_extension": ".py",
   "mimetype": "text/x-python",
   "name": "python",
   "nbconvert_exporter": "python",
   "pygments_lexer": "ipython2",
   "version": "2.7.6"
  }
 },
 "nbformat": 4,
 "nbformat_minor": 5
}
