{
 "cells": [
  {
   "metadata": {},
   "cell_type": "markdown",
   "source": "# Introduction to Scikit-Learn: Machine Learning with Python",
   "id": "5563463dec647bd2"
  },
  {
   "metadata": {},
   "cell_type": "markdown",
   "source": [
    "## Outline\n",
    "\n",
    "**Main Goal:** To introduce the central concepts of machine learning, and how they can be applied in Python using the Scikit-learn Package.\n",
    "\n",
    "- Data representation in scikit-learn\n",
    "- Introduction to the Scikit-learn API"
   ],
   "id": "31703db8b252c007"
  },
  {
   "metadata": {},
   "cell_type": "markdown",
   "source": [
    "## Representation of Data in Scikit-learn\n",
    "\n",
    "Machine learning is about creating models from data: for that reason, we'll start by\n",
    "discussing how data can be represented in order to be understood by the computer.  Along\n",
    "with this, we'll build on our matplotlib examples from the previous section and show some\n",
    "examples of how to visualize data."
   ],
   "id": "6c6f71445a123d66"
  },
  {
   "metadata": {},
   "cell_type": "markdown",
   "source": [
    "Most machine learning algorithms implemented in scikit-learn expect data to be stored in a\n",
    "**two-dimensional array or matrix**.  The arrays can be\n",
    "either ``numpy`` arrays, or in some cases ``scipy.sparse`` matrices.\n",
    "The size of the array is expected to be `[n_samples, n_features]`\n",
    "\n",
    "- **n_samples:**   The number of samples: each sample is an item to process (e.g. classify).\n",
    "  A sample can be a document, a picture, a sound, a video, an astronomical object,\n",
    "  a row in database or CSV file,\n",
    "  or whatever you can describe with a fixed set of quantitative traits.\n",
    "- **n_features:**  The number of features or distinct traits that can be used to describe each\n",
    "  item in a quantitative manner.  Features are generally real-valued, but may be boolean or\n",
    "  discrete-valued in some cases.\n",
    "\n",
    "The number of features must be fixed in advance. However it can be very high dimensional\n",
    "(e.g. millions of features) with most of them being zeros for a given sample. This is a case\n",
    "where `scipy.sparse` matrices can be useful, in that they are\n",
    "much more memory-efficient than numpy arrays."
   ],
   "id": "61417e58432418c6"
  },
  {
   "metadata": {},
   "cell_type": "markdown",
   "source": [
    "## A Simple Example: the Iris Dataset\n",
    "\n",
    "As an example of a simple dataset, we're going to take a look at the\n",
    "iris data stored by scikit-learn.\n",
    "The data consists of measurements of three different species of irises.\n",
    "There are three species of iris in the dataset, which we can picture here:"
   ],
   "id": "1297980066c7472b"
  },
  {
   "metadata": {
    "ExecuteTime": {
     "end_time": "2024-05-22T13:47:07.093641Z",
     "start_time": "2024-05-22T13:47:07.030677Z"
    }
   },
   "cell_type": "code",
   "source": [
    "from IPython.display import Image, display\n",
    "display(Image(filename='iris-dataset-image.png'))"
   ],
   "id": "707409d4ec849713",
   "execution_count": 1,
   "outputs": []
  },
  {
   "metadata": {},
   "cell_type": "markdown",
   "source": [
    "### Quick Question:\n",
    "\n",
    "**If we want to design an algorithm to recognize iris species, what might the data be?**\n",
    "\n",
    "Remember: we need a 2D array of size `[n_samples x n_features]`.\n",
    "\n",
    "- What would the `n_samples` refer to?\n",
    "\n",
    "- What might the `n_features` refer to?\n",
    "\n",
    "Remember that there must be a **fixed** number of features for each sample, and feature\n",
    "number ``i`` must be a similar kind of quantity for each sample."
   ],
   "id": "2780ff628131479a"
  },
  {
   "metadata": {},
   "cell_type": "markdown",
   "source": [
    "### Loading the Iris Data with Scikit-Learn\n",
    "\n",
    "Scikit-learn has a very straightforward set of data on these iris species.  The data consist of\n",
    "the following:\n",
    "\n",
    "- Features in the Iris dataset:\n",
    "\n",
    "  1. sepal length in cm\n",
    "  2. sepal width in cm\n",
    "  3. petal length in cm\n",
    "  4. petal width in cm\n",
    "\n",
    "- Target classes to predict:\n",
    "\n",
    "  1. Iris Setosa\n",
    "  2. Iris Versicolour\n",
    "  3. Iris Virginica\n",
    "  \n",
    "``scikit-learn`` embeds a copy of the iris CSV file along with a helper function to load it into numpy arrays:"
   ],
   "id": "323b0421eab67017"
  },
  {
   "metadata": {},
   "cell_type": "markdown",
   "source": "We can easily load the iris dataset as follows.",
   "id": "83358e64d056421c"
  },
  {
   "metadata": {
    "ExecuteTime": {
     "end_time": "2024-05-22T13:47:09.364456Z",
     "start_time": "2024-05-22T13:47:08.166043Z"
    }
   },
   "cell_type": "code",
   "source": [
    "from sklearn.datasets import load_iris\n",
    "iris = load_iris()"
   ],
   "id": "43b938459371d59b",
   "execution_count": 2,
   "outputs": []
  },
  {
   "metadata": {},
   "cell_type": "markdown",
   "source": [
    "What we obtain is a dictionary with the following structure:\n",
    "* data contains the input features;\n",
    "* target contains the label for each sample.\n",
    "\n",
    "We will see later the other fields."
   ],
   "id": "56bf6dacca289043"
  },
  {
   "metadata": {
    "ExecuteTime": {
     "end_time": "2024-05-22T13:47:09.380415Z",
     "start_time": "2024-05-22T13:47:09.367409Z"
    }
   },
   "cell_type": "code",
   "source": "iris.keys()",
   "id": "99f65adcf8dc266d",
   "execution_count": 3,
   "outputs": []
  },
  {
   "metadata": {},
   "cell_type": "markdown",
   "source": "Then, we can retrieve the number of samples and the number of features.",
   "id": "81c4784d42115bfd"
  },
  {
   "metadata": {
    "ExecuteTime": {
     "end_time": "2024-05-22T13:47:09.551622Z",
     "start_time": "2024-05-22T13:47:09.382404Z"
    }
   },
   "cell_type": "code",
   "source": [
    "n_samples, n_features = iris.data.shape\n",
    "print(f'n_samples={n_samples}, n_features={n_features}')\n",
    "print(f'Sample at index 0: {iris.data[0]}')"
   ],
   "id": "68a40b3509ed536a",
   "execution_count": 4,
   "outputs": []
  },
  {
   "metadata": {},
   "cell_type": "markdown",
   "source": "Let's check the shape of the input and output data.",
   "id": "28f954372c238a6f"
  },
  {
   "metadata": {
    "ExecuteTime": {
     "end_time": "2024-05-22T13:47:09.825462Z",
     "start_time": "2024-05-22T13:47:09.813469Z"
    }
   },
   "cell_type": "code",
   "source": [
    "print(f'Shape of field \"data\": {iris.data.shape}')\n",
    "print(f'Shape of field \"target\": {iris.target.shape}')"
   ],
   "id": "f93de03ef03e9c8c",
   "execution_count": 5,
   "outputs": []
  },
  {
   "metadata": {},
   "cell_type": "markdown",
   "source": [
    "Now let's check the field `target` and `target_names`.\n",
    "* `target` contains the label for each sample;\n",
    "* `target_names` contains the label in string."
   ],
   "id": "693d6ca6fcac1885"
  },
  {
   "metadata": {
    "ExecuteTime": {
     "end_time": "2024-05-22T13:47:10.321072Z",
     "start_time": "2024-05-22T13:47:10.308082Z"
    }
   },
   "cell_type": "code",
   "source": "print(iris.target)",
   "id": "81e8eed68437bd5c",
   "execution_count": 6,
   "outputs": []
  },
  {
   "metadata": {
    "ExecuteTime": {
     "end_time": "2024-05-22T13:47:10.973950Z",
     "start_time": "2024-05-22T13:47:10.954962Z"
    }
   },
   "cell_type": "code",
   "source": "print(iris.target_names)",
   "id": "870b31efbfd2f9cb",
   "execution_count": 7,
   "outputs": []
  },
  {
   "metadata": {},
   "cell_type": "markdown",
   "source": [
    "This data is four dimensional, but we can visualize two of the dimensions at a time using a simple scatter-plot. Changing `x_index` and `y_index` we may find a combination of two parameters\n",
    "which maximally separate the three classes.\n"
   ],
   "id": "49ce6b570ee42c21"
  },
  {
   "metadata": {
    "ExecuteTime": {
     "end_time": "2024-05-22T13:47:14.353378Z",
     "start_time": "2024-05-22T13:47:11.515057Z"
    }
   },
   "cell_type": "code",
   "source": [
    "from utilities.ml_plot_utilities import plot_2d_feature_space_by_class\n",
    "from itertools import combinations\n",
    "\n",
    "# List of indices\n",
    "indices = list(range(len(iris.feature_names)))\n",
    "\n",
    "# Find all possible pair combinations\n",
    "paired_features = list(combinations(indices, 2))\n",
    "\n",
    "for features in paired_features:\n",
    "    plot_2d_feature_space_by_class(iris.data, iris.target, iris.feature_names, \n",
    "                                   features[0], features[1], iris.target_names)"
   ],
   "id": "d071d93282c65fb3",
   "execution_count": 8,
   "outputs": []
  },
  {
   "metadata": {},
   "cell_type": "markdown",
   "source": [
    "## Other Available Data\n",
    "They come in three flavors:\n",
    "\n",
    "- **Packaged Data:** these small datasets are packaged with the scikit-learn installation,\n",
    "  and can be downloaded using the tools in ``sklearn.datasets.load_*``\n",
    "- **Downloadable Data:** these larger datasets are available for download, and scikit-learn\n",
    "  includes tools which streamline this process.  These tools can be found in\n",
    "  ``sklearn.datasets.fetch_*``\n",
    "- **Generated Data:** there are several datasets which are generated from models based on a\n",
    "  random seed.  These are available in the ``sklearn.datasets.make_*``\n",
    "\n",
    "You can explore the available dataset loaders, fetchers, and generators using IPython's\n",
    "tab-completion functionality.  After importing the ``datasets`` submodule from ``sklearn``,\n",
    "type\n",
    "\n",
    "    datasets.load_ + TAB\n",
    "\n",
    "or\n",
    "\n",
    "    datasets.fetch_ + TAB\n",
    "\n",
    "or\n",
    "\n",
    "    datasets.make_ + TAB\n",
    "\n",
    "to see a list of available functions."
   ],
   "id": "e75a498a0cab3113"
  }
 ],
 "metadata": {
  "kernelspec": {
   "display_name": "Python 3",
   "language": "python",
   "name": "python3"
  },
  "language_info": {
   "codemirror_mode": {
    "name": "ipython",
    "version": 2
   },
   "file_extension": ".py",
   "mimetype": "text/x-python",
   "name": "python",
   "nbconvert_exporter": "python",
   "pygments_lexer": "ipython2",
   "version": "2.7.6"
  }
 },
 "nbformat": 4,
 "nbformat_minor": 5
}
